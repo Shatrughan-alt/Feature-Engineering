{
 "cells": [
  {
   "cell_type": "markdown",
   "metadata": {},
   "source": [
    "## Handling Imbalaned Dataset\n",
    "\n",
    "Basically based on categorical data or we can say that binary data.\n",
    "\n",
    "Lets say one dataset is having yes or no\n",
    "            900 Yes     100 No\n",
    "            So the ratio is 9:1\n",
    "\n",
    "Which means our module will be biased towards 900 data valie to handle this there is two technique :-\n"
   ]
  },
  {
   "cell_type": "markdown",
   "metadata": {},
   "source": [
    "1. Up Sampling\n",
    "2. Down Sampling"
   ]
  },
  {
   "cell_type": "code",
   "execution_count": 13,
   "metadata": {},
   "outputs": [],
   "source": [
    "import numpy as np\n",
    "import pandas as pd\n",
    "\n",
    "# Set the seed for reproducibility -- iif choosing any value that will not change and can use any value in place of 123\n",
    "np.random.seed(123)\n",
    "\n",
    "# Create a dataframe with two classes\n",
    "n_samples=1000\n",
    "class_0_ratio=0.9\n",
    "n_class_0=int(n_samples*class_0_ratio)\n",
    "n_class_1=n_samples-n_class_0"
   ]
  },
  {
   "cell_type": "code",
   "execution_count": 14,
   "metadata": {},
   "outputs": [
    {
     "data": {
      "text/plain": [
       "(900, 100)"
      ]
     },
     "execution_count": 14,
     "metadata": {},
     "output_type": "execute_result"
    }
   ],
   "source": [
    "n_class_0,n_class_1"
   ]
  },
  {
   "cell_type": "code",
   "execution_count": 21,
   "metadata": {},
   "outputs": [],
   "source": [
    "## Create my dataframe with imbalanced dataset\n",
    "\n",
    "# loc: The mean of the normal distribution (the center around which the data is distributed).\n",
    "# scale: The standard deviation (spread or width of the distribution).\n",
    "# size: The number of random values to generate.\n",
    "\n",
    "class_0=pd.DataFrame({\n",
    "    'feature_1':np.random.normal(loc=0,scale=1,size=n_class_0),\n",
    "    'feature_2':np.random.normal(loc=0,scale=1,size=n_class_0),\n",
    "    'target':[0]*n_class_0  #900 0 is created in this dataframe\n",
    "})\n",
    "\n",
    "\n",
    "class_1=pd.DataFrame({\n",
    "    'feature_1':np.random.normal(loc=2,scale=1,size=n_class_1),\n",
    "    'feature_2':np.random.normal(loc=2,scale=1,size=n_class_1),\n",
    "    'target':[1]*n_class_1\n",
    "})"
   ]
  },
  {
   "cell_type": "code",
   "execution_count": 22,
   "metadata": {},
   "outputs": [],
   "source": [
    "df=pd.concat([class_0,class_1]).reset_index(drop=True)"
   ]
  },
  {
   "cell_type": "code",
   "execution_count": 23,
   "metadata": {},
   "outputs": [
    {
     "data": {
      "text/html": [
       "<div>\n",
       "<style scoped>\n",
       "    .dataframe tbody tr th:only-of-type {\n",
       "        vertical-align: middle;\n",
       "    }\n",
       "\n",
       "    .dataframe tbody tr th {\n",
       "        vertical-align: top;\n",
       "    }\n",
       "\n",
       "    .dataframe thead th {\n",
       "        text-align: right;\n",
       "    }\n",
       "</style>\n",
       "<table border=\"1\" class=\"dataframe\">\n",
       "  <thead>\n",
       "    <tr style=\"text-align: right;\">\n",
       "      <th></th>\n",
       "      <th>feature_1</th>\n",
       "      <th>feature_2</th>\n",
       "      <th>target</th>\n",
       "    </tr>\n",
       "  </thead>\n",
       "  <tbody>\n",
       "    <tr>\n",
       "      <th>0</th>\n",
       "      <td>-0.471276</td>\n",
       "      <td>0.328462</td>\n",
       "      <td>0</td>\n",
       "    </tr>\n",
       "    <tr>\n",
       "      <th>1</th>\n",
       "      <td>1.084072</td>\n",
       "      <td>1.038230</td>\n",
       "      <td>0</td>\n",
       "    </tr>\n",
       "    <tr>\n",
       "      <th>2</th>\n",
       "      <td>-0.379223</td>\n",
       "      <td>1.147064</td>\n",
       "      <td>0</td>\n",
       "    </tr>\n",
       "    <tr>\n",
       "      <th>3</th>\n",
       "      <td>-0.362274</td>\n",
       "      <td>0.638254</td>\n",
       "      <td>0</td>\n",
       "    </tr>\n",
       "    <tr>\n",
       "      <th>4</th>\n",
       "      <td>-0.681071</td>\n",
       "      <td>-1.075766</td>\n",
       "      <td>0</td>\n",
       "    </tr>\n",
       "  </tbody>\n",
       "</table>\n",
       "</div>"
      ],
      "text/plain": [
       "   feature_1  feature_2  target\n",
       "0  -0.471276   0.328462       0\n",
       "1   1.084072   1.038230       0\n",
       "2  -0.379223   1.147064       0\n",
       "3  -0.362274   0.638254       0\n",
       "4  -0.681071  -1.075766       0"
      ]
     },
     "execution_count": 23,
     "metadata": {},
     "output_type": "execute_result"
    }
   ],
   "source": [
    "df.head()"
   ]
  },
  {
   "cell_type": "code",
   "execution_count": 24,
   "metadata": {},
   "outputs": [
    {
     "data": {
      "text/html": [
       "<div>\n",
       "<style scoped>\n",
       "    .dataframe tbody tr th:only-of-type {\n",
       "        vertical-align: middle;\n",
       "    }\n",
       "\n",
       "    .dataframe tbody tr th {\n",
       "        vertical-align: top;\n",
       "    }\n",
       "\n",
       "    .dataframe thead th {\n",
       "        text-align: right;\n",
       "    }\n",
       "</style>\n",
       "<table border=\"1\" class=\"dataframe\">\n",
       "  <thead>\n",
       "    <tr style=\"text-align: right;\">\n",
       "      <th></th>\n",
       "      <th>feature_1</th>\n",
       "      <th>feature_2</th>\n",
       "      <th>target</th>\n",
       "    </tr>\n",
       "  </thead>\n",
       "  <tbody>\n",
       "    <tr>\n",
       "      <th>995</th>\n",
       "      <td>2.720690</td>\n",
       "      <td>1.978489</td>\n",
       "      <td>1</td>\n",
       "    </tr>\n",
       "    <tr>\n",
       "      <th>996</th>\n",
       "      <td>1.949078</td>\n",
       "      <td>3.709793</td>\n",
       "      <td>1</td>\n",
       "    </tr>\n",
       "    <tr>\n",
       "      <th>997</th>\n",
       "      <td>2.709784</td>\n",
       "      <td>3.324917</td>\n",
       "      <td>1</td>\n",
       "    </tr>\n",
       "    <tr>\n",
       "      <th>998</th>\n",
       "      <td>1.817689</td>\n",
       "      <td>1.549237</td>\n",
       "      <td>1</td>\n",
       "    </tr>\n",
       "    <tr>\n",
       "      <th>999</th>\n",
       "      <td>2.838910</td>\n",
       "      <td>2.240773</td>\n",
       "      <td>1</td>\n",
       "    </tr>\n",
       "  </tbody>\n",
       "</table>\n",
       "</div>"
      ],
      "text/plain": [
       "     feature_1  feature_2  target\n",
       "995   2.720690   1.978489       1\n",
       "996   1.949078   3.709793       1\n",
       "997   2.709784   3.324917       1\n",
       "998   1.817689   1.549237       1\n",
       "999   2.838910   2.240773       1"
      ]
     },
     "execution_count": 24,
     "metadata": {},
     "output_type": "execute_result"
    }
   ],
   "source": [
    "df.tail()"
   ]
  },
  {
   "cell_type": "code",
   "execution_count": 25,
   "metadata": {},
   "outputs": [
    {
     "data": {
      "text/plain": [
       "target\n",
       "0    900\n",
       "1    100\n",
       "Name: count, dtype: int64"
      ]
     },
     "execution_count": 25,
     "metadata": {},
     "output_type": "execute_result"
    }
   ],
   "source": [
    "df['target'].value_counts()"
   ]
  },
  {
   "cell_type": "code",
   "execution_count": 28,
   "metadata": {},
   "outputs": [],
   "source": [
    "## Upsampling\n",
    "\n",
    "## Saggregating the data or accumulate the data\n",
    "\n",
    "df_minority=df[df['target']==1]\n",
    "df_majority=df[df['target']==0]"
   ]
  },
  {
   "cell_type": "code",
   "execution_count": 35,
   "metadata": {},
   "outputs": [
    {
     "name": "stdout",
     "output_type": "stream",
     "text": [
      "Collecting scikit-learn\n",
      "  Downloading scikit_learn-1.5.2-cp312-cp312-win_amd64.whl.metadata (13 kB)\n",
      "Requirement already satisfied: numpy>=1.19.5 in c:\\users\\91630\\desktop\\data analyst course\\2-feature engineering\\ipykernel\\lib\\site-packages (from scikit-learn) (2.1.2)\n",
      "Collecting scipy>=1.6.0 (from scikit-learn)\n",
      "  Downloading scipy-1.14.1-cp312-cp312-win_amd64.whl.metadata (60 kB)\n",
      "Collecting joblib>=1.2.0 (from scikit-learn)\n",
      "  Downloading joblib-1.4.2-py3-none-any.whl.metadata (5.4 kB)\n",
      "Collecting threadpoolctl>=3.1.0 (from scikit-learn)\n",
      "  Downloading threadpoolctl-3.5.0-py3-none-any.whl.metadata (13 kB)\n",
      "Downloading scikit_learn-1.5.2-cp312-cp312-win_amd64.whl (11.0 MB)\n",
      "   ---------------------------------------- 0.0/11.0 MB ? eta -:--:--\n",
      "   -- ------------------------------------- 0.8/11.0 MB 5.6 MB/s eta 0:00:02\n",
      "   -------- ------------------------------- 2.4/11.0 MB 6.7 MB/s eta 0:00:02\n",
      "   -------------- ------------------------- 3.9/11.0 MB 7.1 MB/s eta 0:00:01\n",
      "   ------------------- -------------------- 5.2/11.0 MB 6.6 MB/s eta 0:00:01\n",
      "   ----------------------- ---------------- 6.6/11.0 MB 6.6 MB/s eta 0:00:01\n",
      "   -------------------------- ------------- 7.3/11.0 MB 6.4 MB/s eta 0:00:01\n",
      "   ------------------------------ --------- 8.4/11.0 MB 6.0 MB/s eta 0:00:01\n",
      "   -------------------------------- ------- 8.9/11.0 MB 5.6 MB/s eta 0:00:01\n",
      "   ----------------------------------- ---- 9.7/11.0 MB 5.4 MB/s eta 0:00:01\n",
      "   -------------------------------------- - 10.5/11.0 MB 5.2 MB/s eta 0:00:01\n",
      "   ---------------------------------------- 11.0/11.0 MB 5.0 MB/s eta 0:00:00\n",
      "Downloading joblib-1.4.2-py3-none-any.whl (301 kB)\n",
      "Downloading scipy-1.14.1-cp312-cp312-win_amd64.whl (44.5 MB)\n",
      "   ---------------------------------------- 0.0/44.5 MB ? eta -:--:--\n",
      "    --------------------------------------- 0.8/44.5 MB 4.2 MB/s eta 0:00:11\n",
      "   - -------------------------------------- 1.3/44.5 MB 3.5 MB/s eta 0:00:13\n",
      "   - -------------------------------------- 2.1/44.5 MB 3.7 MB/s eta 0:00:12\n",
      "   -- ------------------------------------- 2.9/44.5 MB 3.6 MB/s eta 0:00:12\n",
      "   --- ------------------------------------ 3.7/44.5 MB 3.7 MB/s eta 0:00:12\n",
      "   ---- ----------------------------------- 4.5/44.5 MB 3.6 MB/s eta 0:00:12\n",
      "   ---- ----------------------------------- 5.5/44.5 MB 3.8 MB/s eta 0:00:11\n",
      "   ----- ---------------------------------- 6.3/44.5 MB 3.8 MB/s eta 0:00:11\n",
      "   ------ --------------------------------- 7.3/44.5 MB 3.9 MB/s eta 0:00:10\n",
      "   ------- -------------------------------- 8.1/44.5 MB 3.9 MB/s eta 0:00:10\n",
      "   -------- ------------------------------- 8.9/44.5 MB 3.9 MB/s eta 0:00:10\n",
      "   -------- ------------------------------- 9.4/44.5 MB 3.8 MB/s eta 0:00:10\n",
      "   --------- ------------------------------ 10.2/44.5 MB 3.8 MB/s eta 0:00:10\n",
      "   --------- ------------------------------ 11.0/44.5 MB 3.7 MB/s eta 0:00:10\n",
      "   ---------- ----------------------------- 11.5/44.5 MB 3.7 MB/s eta 0:00:09\n",
      "   ----------- ---------------------------- 12.3/44.5 MB 3.7 MB/s eta 0:00:09\n",
      "   ----------- ---------------------------- 13.1/44.5 MB 3.6 MB/s eta 0:00:09\n",
      "   ------------ --------------------------- 13.6/44.5 MB 3.6 MB/s eta 0:00:09\n",
      "   ------------ --------------------------- 14.4/44.5 MB 3.6 MB/s eta 0:00:09\n",
      "   ------------- -------------------------- 15.2/44.5 MB 3.6 MB/s eta 0:00:09\n",
      "   -------------- ------------------------- 16.0/44.5 MB 3.6 MB/s eta 0:00:08\n",
      "   --------------- ------------------------ 16.8/44.5 MB 3.6 MB/s eta 0:00:08\n",
      "   --------------- ------------------------ 17.6/44.5 MB 3.6 MB/s eta 0:00:08\n",
      "   ---------------- ----------------------- 18.4/44.5 MB 3.6 MB/s eta 0:00:08\n",
      "   ---------------- ----------------------- 18.9/44.5 MB 3.6 MB/s eta 0:00:08\n",
      "   ----------------- ---------------------- 19.4/44.5 MB 3.6 MB/s eta 0:00:08\n",
      "   ------------------ --------------------- 20.2/44.5 MB 3.5 MB/s eta 0:00:07\n",
      "   ------------------ --------------------- 21.0/44.5 MB 3.5 MB/s eta 0:00:07\n",
      "   ------------------- -------------------- 21.8/44.5 MB 3.5 MB/s eta 0:00:07\n",
      "   -------------------- ------------------- 22.5/44.5 MB 3.5 MB/s eta 0:00:07\n",
      "   -------------------- ------------------- 23.3/44.5 MB 3.6 MB/s eta 0:00:06\n",
      "   --------------------- ------------------ 24.1/44.5 MB 3.6 MB/s eta 0:00:06\n",
      "   ---------------------- ----------------- 24.9/44.5 MB 3.6 MB/s eta 0:00:06\n",
      "   ---------------------- ----------------- 25.2/44.5 MB 3.5 MB/s eta 0:00:06\n",
      "   ----------------------- ---------------- 25.7/44.5 MB 3.5 MB/s eta 0:00:06\n",
      "   ----------------------- ---------------- 26.2/44.5 MB 3.4 MB/s eta 0:00:06\n",
      "   ----------------------- ---------------- 26.5/44.5 MB 3.4 MB/s eta 0:00:06\n",
      "   ------------------------ --------------- 27.0/44.5 MB 3.4 MB/s eta 0:00:06\n",
      "   ------------------------ --------------- 27.5/44.5 MB 3.3 MB/s eta 0:00:06\n",
      "   ------------------------- -------------- 28.0/44.5 MB 3.3 MB/s eta 0:00:05\n",
      "   ------------------------- -------------- 28.6/44.5 MB 3.3 MB/s eta 0:00:05\n",
      "   -------------------------- ------------- 29.1/44.5 MB 3.3 MB/s eta 0:00:05\n",
      "   -------------------------- ------------- 29.4/44.5 MB 3.2 MB/s eta 0:00:05\n",
      "   --------------------------- ------------ 30.1/44.5 MB 3.2 MB/s eta 0:00:05\n",
      "   --------------------------- ------------ 30.7/44.5 MB 3.2 MB/s eta 0:00:05\n",
      "   --------------------------- ------------ 30.9/44.5 MB 3.2 MB/s eta 0:00:05\n",
      "   ---------------------------- ----------- 31.7/44.5 MB 3.2 MB/s eta 0:00:05\n",
      "   ---------------------------- ----------- 32.2/44.5 MB 3.2 MB/s eta 0:00:04\n",
      "   ----------------------------- ---------- 32.8/44.5 MB 3.1 MB/s eta 0:00:04\n",
      "   ----------------------------- ---------- 33.0/44.5 MB 3.1 MB/s eta 0:00:04\n",
      "   ------------------------------ --------- 33.6/44.5 MB 3.1 MB/s eta 0:00:04\n",
      "   ------------------------------ --------- 34.3/44.5 MB 3.1 MB/s eta 0:00:04\n",
      "   ------------------------------- -------- 34.9/44.5 MB 3.1 MB/s eta 0:00:04\n",
      "   ------------------------------- -------- 35.4/44.5 MB 3.1 MB/s eta 0:00:03\n",
      "   -------------------------------- ------- 36.2/44.5 MB 3.1 MB/s eta 0:00:03\n",
      "   -------------------------------- ------- 36.7/44.5 MB 3.1 MB/s eta 0:00:03\n",
      "   --------------------------------- ------ 37.5/44.5 MB 3.1 MB/s eta 0:00:03\n",
      "   ---------------------------------- ----- 38.0/44.5 MB 3.1 MB/s eta 0:00:03\n",
      "   ---------------------------------- ----- 38.5/44.5 MB 3.1 MB/s eta 0:00:02\n",
      "   ----------------------------------- ---- 39.3/44.5 MB 3.1 MB/s eta 0:00:02\n",
      "   ----------------------------------- ---- 39.8/44.5 MB 3.1 MB/s eta 0:00:02\n",
      "   ------------------------------------ --- 40.4/44.5 MB 3.1 MB/s eta 0:00:02\n",
      "   ------------------------------------ --- 41.2/44.5 MB 3.1 MB/s eta 0:00:02\n",
      "   ------------------------------------- -- 41.9/44.5 MB 3.1 MB/s eta 0:00:01\n",
      "   -------------------------------------- - 42.5/44.5 MB 3.1 MB/s eta 0:00:01\n",
      "   -------------------------------------- - 43.3/44.5 MB 3.1 MB/s eta 0:00:01\n",
      "   ---------------------------------------  44.0/44.5 MB 3.1 MB/s eta 0:00:01\n",
      "   ---------------------------------------  44.3/44.5 MB 3.1 MB/s eta 0:00:01\n",
      "   ---------------------------------------- 44.5/44.5 MB 3.0 MB/s eta 0:00:00\n",
      "Downloading threadpoolctl-3.5.0-py3-none-any.whl (18 kB)\n",
      "Installing collected packages: threadpoolctl, scipy, joblib, scikit-learn\n",
      "Successfully installed joblib-1.4.2 scikit-learn-1.5.2 scipy-1.14.1 threadpoolctl-3.5.0\n",
      "Note: you may need to restart the kernel to use updated packages.\n"
     ]
    }
   ],
   "source": [
    "pip install scikit-learn\n"
   ]
  },
  {
   "cell_type": "code",
   "execution_count": 37,
   "metadata": {},
   "outputs": [],
   "source": [
    "from sklearn.utils import resample\n",
    "df_minority_upsampled=resample(df_minority,              # The minority class dataframe to be upsampled\n",
    "    replace=True,             # Allow sampling with replacement\n",
    "    n_samples=len(df_majority), # Match the number of samples to the majority class\n",
    "    random_state=42           # Set seed for reproducibility\n",
    ")"
   ]
  },
  {
   "cell_type": "code",
   "execution_count": 40,
   "metadata": {},
   "outputs": [
    {
     "data": {
      "text/plain": [
       "(900, 3)"
      ]
     },
     "execution_count": 40,
     "metadata": {},
     "output_type": "execute_result"
    }
   ],
   "source": [
    "df_minority_upsampled.shape"
   ]
  },
  {
   "cell_type": "code",
   "execution_count": 41,
   "metadata": {},
   "outputs": [
    {
     "data": {
      "text/html": [
       "<div>\n",
       "<style scoped>\n",
       "    .dataframe tbody tr th:only-of-type {\n",
       "        vertical-align: middle;\n",
       "    }\n",
       "\n",
       "    .dataframe tbody tr th {\n",
       "        vertical-align: top;\n",
       "    }\n",
       "\n",
       "    .dataframe thead th {\n",
       "        text-align: right;\n",
       "    }\n",
       "</style>\n",
       "<table border=\"1\" class=\"dataframe\">\n",
       "  <thead>\n",
       "    <tr style=\"text-align: right;\">\n",
       "      <th></th>\n",
       "      <th>feature_1</th>\n",
       "      <th>feature_2</th>\n",
       "      <th>target</th>\n",
       "    </tr>\n",
       "  </thead>\n",
       "  <tbody>\n",
       "    <tr>\n",
       "      <th>951</th>\n",
       "      <td>2.701255</td>\n",
       "      <td>0.056481</td>\n",
       "      <td>1</td>\n",
       "    </tr>\n",
       "    <tr>\n",
       "      <th>992</th>\n",
       "      <td>2.322342</td>\n",
       "      <td>3.289170</td>\n",
       "      <td>1</td>\n",
       "    </tr>\n",
       "    <tr>\n",
       "      <th>914</th>\n",
       "      <td>2.500618</td>\n",
       "      <td>1.338170</td>\n",
       "      <td>1</td>\n",
       "    </tr>\n",
       "    <tr>\n",
       "      <th>971</th>\n",
       "      <td>1.922944</td>\n",
       "      <td>2.907951</td>\n",
       "      <td>1</td>\n",
       "    </tr>\n",
       "    <tr>\n",
       "      <th>960</th>\n",
       "      <td>0.630218</td>\n",
       "      <td>0.982405</td>\n",
       "      <td>1</td>\n",
       "    </tr>\n",
       "  </tbody>\n",
       "</table>\n",
       "</div>"
      ],
      "text/plain": [
       "     feature_1  feature_2  target\n",
       "951   2.701255   0.056481       1\n",
       "992   2.322342   3.289170       1\n",
       "914   2.500618   1.338170       1\n",
       "971   1.922944   2.907951       1\n",
       "960   0.630218   0.982405       1"
      ]
     },
     "execution_count": 41,
     "metadata": {},
     "output_type": "execute_result"
    }
   ],
   "source": [
    "df_minority_upsampled.head()"
   ]
  },
  {
   "cell_type": "code",
   "execution_count": 43,
   "metadata": {},
   "outputs": [],
   "source": [
    "df_upsampled=pd.concat([df_majority,df_minority_upsampled])"
   ]
  },
  {
   "cell_type": "code",
   "execution_count": 44,
   "metadata": {},
   "outputs": [
    {
     "data": {
      "text/plain": [
       "target\n",
       "0    900\n",
       "1    900\n",
       "Name: count, dtype: int64"
      ]
     },
     "execution_count": 44,
     "metadata": {},
     "output_type": "execute_result"
    }
   ],
   "source": [
    "df_upsampled['target'].value_counts()"
   ]
  },
  {
   "cell_type": "code",
   "execution_count": 45,
   "metadata": {},
   "outputs": [
    {
     "name": "stdout",
     "output_type": "stream",
     "text": [
      "target\n",
      "0    900\n",
      "1    100\n",
      "Name: count, dtype: int64\n"
     ]
    }
   ],
   "source": [
    "## DownSampling\n",
    "\n",
    "import numpy as np\n",
    "import pandas as pd\n",
    "\n",
    "# Set the seed for reproducibility -- iif choosing any value that will not change and can use any value in place of 123\n",
    "np.random.seed(123)\n",
    "\n",
    "# Create a dataframe with two classes\n",
    "n_samples=1000\n",
    "class_0_ratio=0.9\n",
    "n_class_0=int(n_samples*class_0_ratio)\n",
    "n_class_1=n_samples-n_class_0\n",
    "\n",
    "class_0=pd.DataFrame({\n",
    "    'feature_1':np.random.normal(loc=0,scale=1,size=n_class_0),\n",
    "    'feature_2':np.random.normal(loc=0,scale=1,size=n_class_0),\n",
    "    'target':[0]*n_class_0  #900 0 is created in this dataframe\n",
    "})\n",
    "\n",
    "\n",
    "class_1=pd.DataFrame({\n",
    "    'feature_1':np.random.normal(loc=2,scale=1,size=n_class_1),\n",
    "    'feature_2':np.random.normal(loc=2,scale=1,size=n_class_1),\n",
    "    'target':[1]*n_class_1\n",
    "})\n",
    "\n",
    "\n",
    "df=pd.concat([class_0,class_1]).reset_index(drop=True)\n",
    "\n",
    "## Check the class Distribution\n",
    "print(df['target'].value_counts())"
   ]
  },
  {
   "cell_type": "code",
   "execution_count": 46,
   "metadata": {},
   "outputs": [],
   "source": [
    "df_minority=df[df['target']==1]\n",
    "df_majority=df[df['target']==0]"
   ]
  },
  {
   "cell_type": "code",
   "execution_count": 47,
   "metadata": {},
   "outputs": [],
   "source": [
    "from sklearn.utils import resample\n",
    "\n",
    "df_majority_downsampled = resample(\n",
    "    df_majority,              # The majority class dataframe to be downsampled\n",
    "    replace=False,            # Sampling without replacement (to avoid duplicates)\n",
    "    n_samples=len(df_minority), # Reduce to match the size of the minority class\n",
    "    random_state=42           # Set seed for reproducibility\n",
    ")\n"
   ]
  },
  {
   "cell_type": "code",
   "execution_count": 48,
   "metadata": {},
   "outputs": [
    {
     "data": {
      "text/plain": [
       "(100, 3)"
      ]
     },
     "execution_count": 48,
     "metadata": {},
     "output_type": "execute_result"
    }
   ],
   "source": [
    "df_majority_downsampled.shape"
   ]
  },
  {
   "cell_type": "code",
   "execution_count": 49,
   "metadata": {},
   "outputs": [],
   "source": [
    "df_downsampled=pd.concat([df_minority,df_majority_downsampled])"
   ]
  },
  {
   "cell_type": "code",
   "execution_count": 50,
   "metadata": {},
   "outputs": [
    {
     "data": {
      "text/plain": [
       "<bound method IndexOpsMixin.value_counts of 900    1\n",
       "901    1\n",
       "902    1\n",
       "903    1\n",
       "904    1\n",
       "      ..\n",
       "398    0\n",
       "76     0\n",
       "196    0\n",
       "631    0\n",
       "751    0\n",
       "Name: target, Length: 200, dtype: int64>"
      ]
     },
     "execution_count": 50,
     "metadata": {},
     "output_type": "execute_result"
    }
   ],
   "source": [
    "df_downsampled.target.value_counts"
   ]
  },
  {
   "cell_type": "markdown",
   "metadata": {},
   "source": [
    "Downsampling is bad because we are loosing the dataset"
   ]
  }
 ],
 "metadata": {
  "kernelspec": {
   "display_name": "Python 3",
   "language": "python",
   "name": "python3"
  },
  "language_info": {
   "codemirror_mode": {
    "name": "ipython",
    "version": 3
   },
   "file_extension": ".py",
   "mimetype": "text/x-python",
   "name": "python",
   "nbconvert_exporter": "python",
   "pygments_lexer": "ipython3",
   "version": "3.12.0"
  }
 },
 "nbformat": 4,
 "nbformat_minor": 2
}
